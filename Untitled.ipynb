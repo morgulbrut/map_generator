{
 "cells": [
  {
   "cell_type": "code",
   "execution_count": 164,
   "metadata": {},
   "outputs": [
    {
     "data": {
      "text/plain": [
       "<folium.map.Icon at 0x7feffed8dd30>"
      ]
     },
     "execution_count": 164,
     "metadata": {},
     "output_type": "execute_result"
    }
   ],
   "source": [
    "import folium\n",
    "import csv\n",
    "\n",
    "icons = {'werkstatt':'wrench', 'laden':'credit-card'}\n",
    "\n",
    "\n",
    "'''CSV handling'''\n",
    "def read_csv_file(file):\n",
    "    try:\n",
    "        f = open(file, 'rt')\n",
    "        return csv.reader(f)\n",
    "    except FileNotFoundError:\n",
    "        print(file + ': File not found')\n",
    "    except IndexError:\n",
    "        print(file + ': File not formated well')\n",
    "\n",
    "def parse_csv(reader):\n",
    "    global header\n",
    "    header = next(reader)\n",
    "    markers = []\n",
    "    for row in reader:\n",
    "        mrk = parse_row(row)\n",
    "        add_marker(mrk[0],mrk[1],mrk[2],mrk[3])\n",
    "        #print(mrk)\n",
    "        #markers.append(mrk)\n",
    "    #return markers\n",
    "\n",
    "\n",
    "def parse_row(row):\n",
    "    lat = row[2]\n",
    "    lon = row[3]\n",
    "    popup = '<a target=\"_blank\" href=\"{}\"><b>{}</b></a><br/>{}<br/>{}'.format(row[4],row[0],row[5],row[6])\n",
    "    markertype = icons[row[7].lower()]\n",
    "    return (lat,lon,popup,markertype)\n",
    "        \n",
    "'''Add markers'''\n",
    "\n",
    "def add_marker(lat,lon,popup,markertype,col='black'):\n",
    "    folium.Marker(\n",
    "        location=[float(lat),float(lon)],\n",
    "        popup=popup,\n",
    "        icon=folium.Icon(icon=markertype,color=col)\n",
    "    ).add_to(m)\n",
    "\n",
    "'''Initialize map'''\n",
    "m = folium.Map(location=[47.3686498, 8.5391825],\n",
    "               zoom_start=11,\n",
    "               tiles='Stamen Toner',\n",
    ")\n",
    "\n",
    "reader = read_csv_file('data.csv')\n",
    "parse_csv(reader)\n",
    "\n",
    "'''\n",
    "folium.Marker(\n",
    "    location=[47.382967,8.539748],\n",
    "    popup='<a target=\"_blank\" href=\"http://www.dynamo.ch\"><b>Dynamo</b></a><br/>verschiedene Werkstätten',\n",
    "    icon=folium.Icon(icon='wrench',color='black')\n",
    ").add_to(m)\n",
    "'''\n",
    "\n",
    "'''Add icon'''\n",
    "folium.Icon(\n",
    "    icon=folium.Icon(icon='cloud')\n",
    ").add_to(m)"
   ]
  },
  {
   "cell_type": "code",
   "execution_count": 165,
   "metadata": {},
   "outputs": [
    {
     "data": {
      "text/html": [
       "<div style=\"width:100%;\"><div style=\"position:relative;width:100%;height:0;padding-bottom:60%;\"><iframe src=\"data:text/html;charset=utf-8;base64,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\" style=\"position:absolute;width:100%;height:100%;left:0;top:0;border:none !important;\" allowfullscreen webkitallowfullscreen mozallowfullscreen></iframe></div></div>"
      ],
      "text/plain": [
       "<folium.folium.Map at 0x7feffefe2390>"
      ]
     },
     "execution_count": 165,
     "metadata": {},
     "output_type": "execute_result"
    }
   ],
   "source": [
    "m"
   ]
  },
  {
   "cell_type": "code",
   "execution_count": 131,
   "metadata": {},
   "outputs": [],
   "source": [
    "m.save('map.html')"
   ]
  },
  {
   "cell_type": "markdown",
   "metadata": {},
   "source": []
  },
  {
   "cell_type": "code",
   "execution_count": 160,
   "metadata": {},
   "outputs": [],
   "source": [
    "reader = read_csv_file('data.csv')\n",
    "parse_csv(reader)"
   ]
  },
  {
   "cell_type": "code",
   "execution_count": 161,
   "metadata": {},
   "outputs": [
    {
     "data": {
      "text/html": [
       "<div style=\"width:100%;\"><div style=\"position:relative;width:100%;height:0;padding-bottom:60%;\"><iframe src=\"data:text/html;charset=utf-8;base64,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\" style=\"position:absolute;width:100%;height:100%;left:0;top:0;border:none !important;\" allowfullscreen webkitallowfullscreen mozallowfullscreen></iframe></div></div>"
      ],
      "text/plain": [
       "<folium.folium.Map at 0x7feffec5e710>"
      ]
     },
     "execution_count": 161,
     "metadata": {},
     "output_type": "execute_result"
    }
   ],
   "source": [
    "m"
   ]
  },
  {
   "cell_type": "code",
   "execution_count": 136,
   "metadata": {},
   "outputs": [
    {
     "ename": "TypeError",
     "evalue": "'Marker' object is not iterable",
     "output_type": "error",
     "traceback": [
      "\u001b[0;31m---------------------------------------------------------------------------\u001b[0m",
      "\u001b[0;31mTypeError\u001b[0m                                 Traceback (most recent call last)",
      "\u001b[0;32m<ipython-input-136-8430c708517a>\u001b[0m in \u001b[0;36m<module>\u001b[0;34m()\u001b[0m\n\u001b[0;32m----> 1\u001b[0;31m \u001b[0madd_marker\u001b[0m\u001b[0;34m(\u001b[0m\u001b[0;34m'47.382967'\u001b[0m\u001b[0;34m,\u001b[0m \u001b[0;34m'8.539748'\u001b[0m\u001b[0;34m,\u001b[0m \u001b[0;34m'<a target=\"_blank\" href=\"www.dynamo.ch/werkbereich\"><b>Dynamo</b></a><br/>Diverse Werkstätten: Veschiedenste Maschinen,\\ndie man je nach dem mit oder ohne Kurs benutzen \\nkann. Darunter ein gut gewarterter Lasercutter<br/>Mittwoch – Freitag: 14.00 – 21.00 Uhr\\nSamstag: 14.00 – 19.00 Uhr'\u001b[0m\u001b[0;34m,\u001b[0m \u001b[0;34m'wrench'\u001b[0m\u001b[0;34m)\u001b[0m\u001b[0;34m\u001b[0m\u001b[0m\n\u001b[0m",
      "\u001b[0;32m<ipython-input-133-a6d5595ee98b>\u001b[0m in \u001b[0;36madd_marker\u001b[0;34m(lat, lon, popup, markertype, col)\u001b[0m\n\u001b[1;32m     39\u001b[0m         \u001b[0mpopup\u001b[0m\u001b[0;34m=\u001b[0m\u001b[0mpopup\u001b[0m\u001b[0;34m,\u001b[0m\u001b[0;34m\u001b[0m\u001b[0m\n\u001b[1;32m     40\u001b[0m         \u001b[0micon\u001b[0m\u001b[0;34m=\u001b[0m\u001b[0mfolium\u001b[0m\u001b[0;34m.\u001b[0m\u001b[0mIcon\u001b[0m\u001b[0;34m(\u001b[0m\u001b[0micon\u001b[0m\u001b[0;34m=\u001b[0m\u001b[0mmarkertype\u001b[0m\u001b[0;34m,\u001b[0m\u001b[0mcolor\u001b[0m\u001b[0;34m=\u001b[0m\u001b[0mcol\u001b[0m\u001b[0;34m)\u001b[0m\u001b[0;34m\u001b[0m\u001b[0m\n\u001b[0;32m---> 41\u001b[0;31m     ).add_to(m))\n\u001b[0m\u001b[1;32m     42\u001b[0m \u001b[0;34m\u001b[0m\u001b[0m\n\u001b[1;32m     43\u001b[0m \u001b[0;34m'''Initialize map'''\u001b[0m\u001b[0;34m\u001b[0m\u001b[0m\n",
      "\u001b[0;32m/usr/lib/python3.6/site-packages/folium/map.py\u001b[0m in \u001b[0;36m__init__\u001b[0;34m(self, location, popup, icon)\u001b[0m\n\u001b[1;32m    645\u001b[0m         \u001b[0;31m# Must be _validate_coordinates b/c some markers are defined with\u001b[0m\u001b[0;34m\u001b[0m\u001b[0;34m\u001b[0m\u001b[0m\n\u001b[1;32m    646\u001b[0m         \u001b[0;31m# multiple coordinates values, like Polygons.\u001b[0m\u001b[0;34m\u001b[0m\u001b[0;34m\u001b[0m\u001b[0m\n\u001b[0;32m--> 647\u001b[0;31m         \u001b[0mself\u001b[0m\u001b[0;34m.\u001b[0m\u001b[0mlocation\u001b[0m \u001b[0;34m=\u001b[0m \u001b[0m_validate_coordinates\u001b[0m\u001b[0;34m(\u001b[0m\u001b[0mlocation\u001b[0m\u001b[0;34m)\u001b[0m\u001b[0;34m\u001b[0m\u001b[0m\n\u001b[0m\u001b[1;32m    648\u001b[0m         \u001b[0;32mif\u001b[0m \u001b[0micon\u001b[0m \u001b[0;32mis\u001b[0m \u001b[0;32mnot\u001b[0m \u001b[0;32mNone\u001b[0m\u001b[0;34m:\u001b[0m\u001b[0;34m\u001b[0m\u001b[0m\n\u001b[1;32m    649\u001b[0m             \u001b[0mself\u001b[0m\u001b[0;34m.\u001b[0m\u001b[0madd_child\u001b[0m\u001b[0;34m(\u001b[0m\u001b[0micon\u001b[0m\u001b[0;34m)\u001b[0m\u001b[0;34m\u001b[0m\u001b[0m\n",
      "\u001b[0;32m/usr/lib/python3.6/site-packages/folium/utilities.py\u001b[0m in \u001b[0;36m_validate_coordinates\u001b[0;34m(coordinates)\u001b[0m\n\u001b[1;32m     44\u001b[0m \u001b[0;32mdef\u001b[0m \u001b[0m_validate_coordinates\u001b[0m\u001b[0;34m(\u001b[0m\u001b[0mcoordinates\u001b[0m\u001b[0;34m)\u001b[0m\u001b[0;34m:\u001b[0m\u001b[0;34m\u001b[0m\u001b[0m\n\u001b[1;32m     45\u001b[0m     \u001b[0;34m\"\"\"Validates multiple coordinates for the various markers in folium.\"\"\"\u001b[0m\u001b[0;34m\u001b[0m\u001b[0m\n\u001b[0;32m---> 46\u001b[0;31m     \u001b[0;32mif\u001b[0m \u001b[0m_isnan\u001b[0m\u001b[0;34m(\u001b[0m\u001b[0mcoordinates\u001b[0m\u001b[0;34m)\u001b[0m\u001b[0;34m:\u001b[0m\u001b[0;34m\u001b[0m\u001b[0m\n\u001b[0m\u001b[1;32m     47\u001b[0m         raise ValueError('Location values cannot contain NaNs, '\n\u001b[1;32m     48\u001b[0m                          'got:\\n{!r}'.format(coordinates))\n",
      "\u001b[0;32m/usr/lib/python3.6/site-packages/folium/utilities.py\u001b[0m in \u001b[0;36m_isnan\u001b[0;34m(values)\u001b[0m\n\u001b[1;32m     70\u001b[0m \u001b[0;32mdef\u001b[0m \u001b[0m_isnan\u001b[0m\u001b[0;34m(\u001b[0m\u001b[0mvalues\u001b[0m\u001b[0;34m)\u001b[0m\u001b[0;34m:\u001b[0m\u001b[0;34m\u001b[0m\u001b[0m\n\u001b[1;32m     71\u001b[0m     \u001b[0;34m\"\"\"Check if there are NaNs values in the iterable.\"\"\"\u001b[0m\u001b[0;34m\u001b[0m\u001b[0m\n\u001b[0;32m---> 72\u001b[0;31m     \u001b[0;32mreturn\u001b[0m \u001b[0many\u001b[0m\u001b[0;34m(\u001b[0m\u001b[0mmath\u001b[0m\u001b[0;34m.\u001b[0m\u001b[0misnan\u001b[0m\u001b[0;34m(\u001b[0m\u001b[0mvalue\u001b[0m\u001b[0;34m)\u001b[0m \u001b[0;32mfor\u001b[0m \u001b[0mvalue\u001b[0m \u001b[0;32min\u001b[0m \u001b[0m_flatten\u001b[0m\u001b[0;34m(\u001b[0m\u001b[0mvalues\u001b[0m\u001b[0;34m)\u001b[0m\u001b[0;34m)\u001b[0m\u001b[0;34m\u001b[0m\u001b[0m\n\u001b[0m\u001b[1;32m     73\u001b[0m \u001b[0;34m\u001b[0m\u001b[0m\n\u001b[1;32m     74\u001b[0m \u001b[0;34m\u001b[0m\u001b[0m\n",
      "\u001b[0;32m/usr/lib/python3.6/site-packages/folium/utilities.py\u001b[0m in \u001b[0;36m<genexpr>\u001b[0;34m(.0)\u001b[0m\n\u001b[1;32m     70\u001b[0m \u001b[0;32mdef\u001b[0m \u001b[0m_isnan\u001b[0m\u001b[0;34m(\u001b[0m\u001b[0mvalues\u001b[0m\u001b[0;34m)\u001b[0m\u001b[0;34m:\u001b[0m\u001b[0;34m\u001b[0m\u001b[0m\n\u001b[1;32m     71\u001b[0m     \u001b[0;34m\"\"\"Check if there are NaNs values in the iterable.\"\"\"\u001b[0m\u001b[0;34m\u001b[0m\u001b[0m\n\u001b[0;32m---> 72\u001b[0;31m     \u001b[0;32mreturn\u001b[0m \u001b[0many\u001b[0m\u001b[0;34m(\u001b[0m\u001b[0mmath\u001b[0m\u001b[0;34m.\u001b[0m\u001b[0misnan\u001b[0m\u001b[0;34m(\u001b[0m\u001b[0mvalue\u001b[0m\u001b[0;34m)\u001b[0m \u001b[0;32mfor\u001b[0m \u001b[0mvalue\u001b[0m \u001b[0;32min\u001b[0m \u001b[0m_flatten\u001b[0m\u001b[0;34m(\u001b[0m\u001b[0mvalues\u001b[0m\u001b[0;34m)\u001b[0m\u001b[0;34m)\u001b[0m\u001b[0;34m\u001b[0m\u001b[0m\n\u001b[0m\u001b[1;32m     73\u001b[0m \u001b[0;34m\u001b[0m\u001b[0m\n\u001b[1;32m     74\u001b[0m \u001b[0;34m\u001b[0m\u001b[0m\n",
      "\u001b[0;32m/usr/lib/python3.6/site-packages/folium/utilities.py\u001b[0m in \u001b[0;36m_flatten\u001b[0;34m(container)\u001b[0m\n\u001b[1;32m     60\u001b[0m \u001b[0;34m\u001b[0m\u001b[0m\n\u001b[1;32m     61\u001b[0m \u001b[0;32mdef\u001b[0m \u001b[0m_flatten\u001b[0m\u001b[0;34m(\u001b[0m\u001b[0mcontainer\u001b[0m\u001b[0;34m)\u001b[0m\u001b[0;34m:\u001b[0m\u001b[0;34m\u001b[0m\u001b[0m\n\u001b[0;32m---> 62\u001b[0;31m     \u001b[0;32mfor\u001b[0m \u001b[0mi\u001b[0m \u001b[0;32min\u001b[0m \u001b[0mcontainer\u001b[0m\u001b[0;34m:\u001b[0m\u001b[0;34m\u001b[0m\u001b[0m\n\u001b[0m\u001b[1;32m     63\u001b[0m         \u001b[0;32mif\u001b[0m \u001b[0misinstance\u001b[0m\u001b[0;34m(\u001b[0m\u001b[0mi\u001b[0m\u001b[0;34m,\u001b[0m \u001b[0;34m(\u001b[0m\u001b[0mlist\u001b[0m\u001b[0;34m,\u001b[0m \u001b[0mtuple\u001b[0m\u001b[0;34m)\u001b[0m\u001b[0;34m)\u001b[0m\u001b[0;34m:\u001b[0m\u001b[0;34m\u001b[0m\u001b[0m\n\u001b[1;32m     64\u001b[0m             \u001b[0;32mfor\u001b[0m \u001b[0mj\u001b[0m \u001b[0;32min\u001b[0m \u001b[0m_flatten\u001b[0m\u001b[0;34m(\u001b[0m\u001b[0mi\u001b[0m\u001b[0;34m)\u001b[0m\u001b[0;34m:\u001b[0m\u001b[0;34m\u001b[0m\u001b[0m\n",
      "\u001b[0;31mTypeError\u001b[0m: 'Marker' object is not iterable"
     ]
    }
   ],
   "source": [
    "add_marker('47.382967', '8.539748', '<a target=\"_blank\" href=\"www.dynamo.ch/werkbereich\"><b>Dynamo</b></a><br/>Diverse Werkstätten: Veschiedenste Maschinen,\\ndie man je nach dem mit oder ohne Kurs benutzen \\nkann. Darunter ein gut gewarterter Lasercutter<br/>Mittwoch – Freitag: 14.00 – 21.00 Uhr\\nSamstag: 14.00 – 19.00 Uhr', 'wrench')"
   ]
  },
  {
   "cell_type": "code",
   "execution_count": 148,
   "metadata": {},
   "outputs": [
    {
     "data": {
      "text/plain": [
       "<folium.map.Marker at 0x7feffebdc438>"
      ]
     },
     "execution_count": 148,
     "metadata": {},
     "output_type": "execute_result"
    }
   ],
   "source": [
    "lat = markers[1][0]\n",
    "lon = markers[1][1]\n",
    "text = markers[1][2]\n",
    "markertype = markers[1][3]\n",
    "col = 'black'\n",
    "\n",
    "folium.Marker(\n",
    "    location=[float(lat),float(lon)],\n",
    "    popup=text,\n",
    "    icon=folium.Icon(icon=markertype,color=col)\n",
    ").add_to(m)"
   ]
  },
  {
   "cell_type": "code",
   "execution_count": 157,
   "metadata": {},
   "outputs": [
    {
     "data": {
      "text/html": [
       "<div style=\"width:100%;\"><div style=\"position:relative;width:100%;height:0;padding-bottom:60%;\"><iframe src=\"data:text/html;charset=utf-8;base64,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\" style=\"position:absolute;width:100%;height:100%;left:0;top:0;border:none !important;\" allowfullscreen webkitallowfullscreen mozallowfullscreen></iframe></div></div>"
      ],
      "text/plain": [
       "<folium.folium.Map at 0x7feffed2a0f0>"
      ]
     },
     "execution_count": 157,
     "metadata": {},
     "output_type": "execute_result"
    }
   ],
   "source": [
    "m"
   ]
  },
  {
   "cell_type": "code",
   "execution_count": null,
   "metadata": {},
   "outputs": [],
   "source": []
  }
 ],
 "metadata": {
  "kernelspec": {
   "display_name": "Python 3",
   "language": "python",
   "name": "python3"
  },
  "language_info": {
   "codemirror_mode": {
    "name": "ipython",
    "version": 3
   },
   "file_extension": ".py",
   "mimetype": "text/x-python",
   "name": "python",
   "nbconvert_exporter": "python",
   "pygments_lexer": "ipython3",
   "version": "3.6.3"
  }
 },
 "nbformat": 4,
 "nbformat_minor": 2
}
